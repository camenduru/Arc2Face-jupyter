{
  "cells": [
    {
      "cell_type": "markdown",
      "metadata": {
        "id": "view-in-github"
      },
      "source": [
        "[![Open In Colab](https://colab.research.google.com/assets/colab-badge.svg)](https://colab.research.google.com/github/camenduru/Arc2Face-jupyter/blob/main/Arc2Face_jupyter.ipynb)"
      ]
    },
    {
      "cell_type": "code",
      "execution_count": null,
      "metadata": {
        "id": "VjYy0F2gZIPR"
      },
      "outputs": [],
      "source": [
        "%cd /content\n",
        "!GIT_LFS_SKIP_SMUDGE=1 git clone -b dev https://github.com/camenduru/Arc2Face-hf\n",
        "%cd /content/Arc2Face-hf\n",
        "\n",
        "!wget https://huggingface.co/camenduru/Arc2Face/resolve/main/freddie.png -O /content/Arc2Face-hf/assets/examples/freddie.png\n",
        "!wget https://huggingface.co/camenduru/Arc2Face/resolve/main/jackie.png -O /content/Arc2Face-hf/assets/examples/jackie.png\n",
        "!wget https://huggingface.co/camenduru/Arc2Face/resolve/main/joacquin.png -O /content/Arc2Face-hf/assets/examples/joacquin.png\n",
        "!wget https://huggingface.co/camenduru/Arc2Face/resolve/main/scrfd_10g_bnkps.onnx -O /content/Arc2Face-hf/models/antelopev2/scrfd_10g_bnkps.onnx\n",
        "!wget https://huggingface.co/camenduru/Arc2Face/resolve/main/arcface.onnx -O /content/Arc2Face-hf/models/antelopev2/arcface.onnx\n",
        "\n",
        "!pip install -q diffusers==0.22.0 transformers==4.34.1 accelerate onnxruntime-gpu gradio insightface\n",
        "\n",
        "!python app.py"
      ]
    }
  ],
  "metadata": {
    "accelerator": "GPU",
    "colab": {
      "gpuType": "T4",
      "provenance": []
    },
    "kernelspec": {
      "display_name": "Python 3",
      "name": "python3"
    },
    "language_info": {
      "name": "python"
    }
  },
  "nbformat": 4,
  "nbformat_minor": 0
}
